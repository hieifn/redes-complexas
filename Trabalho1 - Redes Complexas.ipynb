{
 "cells": [
  {
   "cell_type": "markdown",
   "metadata": {},
   "source": [
    "# Complex Networks\n",
    "#### Igor F. Nascimento"
   ]
  },
  {
   "cell_type": "markdown",
   "metadata": {},
   "source": [
    "# 1. Context\n",
    "##### \"Você deve escolher ao menos quatro redes disponíveis nos repositórios abaixo ou em outros repositórios (e não apenas as redes disponíveis no graph-tool), e caracterizá-las utilizando diferentes métricas, como grau, distância, tamanho das componentes conexas, e outras (você pode escolher outras). Para cada métrica analisada, calcule as seguintes estatísticas: máximo, mínimo, média, mediana, desvio padrão, e distribuição empírica (faça um gráfico). \""
   ]
  },
  {
   "cell_type": "markdown",
   "metadata": {},
   "source": [
    "### 1.1 imports"
   ]
  },
  {
   "cell_type": "code",
   "execution_count": 39,
   "metadata": {},
   "outputs": [],
   "source": [
    "from IPython.display import Math , Latex\n",
    "import networkx as nx\n",
    "from nxpd import draw\n",
    "import pandas as pd\n",
    "import termtables as tt\n",
    "import numpy as np\n",
    "import matplotlib.pyplot as plt\n",
    "import powerlaw"
   ]
  },
  {
   "cell_type": "markdown",
   "metadata": {},
   "source": [
    "### 1.2 Datasets"
   ]
  },
  {
   "cell_type": "markdown",
   "metadata": {},
   "source": [
    "##### [`Collaboration network of Arxiv High Energy Physics Theory`](http://snap.stanford.edu/data/ca-HepTh.html)\n",
    "\n",
    "##### [`Collaboration network of Arxiv High Energy Physics Theory`](http://snap.stanford.edu/data/ca-HepTh.html)\n",
    "\n",
    "##### [`Collaboration network of Arxiv High Energy Physics Theory`](http://snap.stanford.edu/data/ca-HepTh.html)\n",
    "\n",
    "##### [`Collaboration network of Arxiv High Energy Physics Theory`](http://snap.stanford.edu/data/ca-HepTh.html)\n"
   ]
  },
  {
   "cell_type": "markdown",
   "metadata": {},
   "source": [
    "### 1.3 Defines\n",
    "##### Paths, and global variables"
   ]
  },
  {
   "cell_type": "code",
   "execution_count": 2,
   "metadata": {},
   "outputs": [],
   "source": [
    "pathColab = './FirstWork/datasets/ca-HepTh.txt'\n",
    "colColab = ['FromNodeID','ToNodeID']"
   ]
  },
  {
   "cell_type": "markdown",
   "metadata": {},
   "source": [
    "## 2. Collaboration network\n",
    "#### 2.1 Definition:\n",
    "##### Arxiv HEP-TH (High Energy Physics - Theory) collaboration network is from the e-print arXiv and covers scientific collaborations between authors papers submitted to High Energy Physics - Theory category. If an author i co-authored a paper with author j, the graph contains a undirected edge from i to j. If the paper is co-authored by k authors this generates a completely connected (sub)graph on k nodes.\n",
    "\n",
    "##### The data covers papers in the period from January 1993 to April 2003 (124 months). It begins within a few months of the inception of the arXiv, and thus represents essentially the complete history of its HEP-TH section."
   ]
  },
  {
   "cell_type": "markdown",
   "metadata": {},
   "source": [
    "#### 2.2 Import and Characterizing the Dataset"
   ]
  },
  {
   "cell_type": "code",
   "execution_count": 3,
   "metadata": {},
   "outputs": [],
   "source": [
    "df = pd.read_csv(pathColab, sep='\\t', names=colColab)\n",
    "G = nx.Graph()\n",
    "tuples = [tuple(x) for x in df.values]\n",
    "G.add_edges_from(tuples)\n",
    "edges = G.edges"
   ]
  },
  {
   "cell_type": "code",
   "execution_count": 4,
   "metadata": {},
   "outputs": [
    {
     "name": "stdout",
     "output_type": "stream",
     "text": [
      "┌───────────────────┬────────────┬───────┬───────┐\n",
      "│ Provider          │ Type       │ Nodes │ Edges │\n",
      "╞═══════════════════╪════════════╪═══════╪═══════╡\n",
      "│ Paper Description │ Undirected │ 9877  │ 25998 │\n",
      "├───────────────────┼────────────┼───────┼───────┤\n",
      "│ NetworkX          │ Undirected │ 9877  │ 25998 │\n",
      "└───────────────────┴────────────┴───────┴───────┘\n"
     ]
    }
   ],
   "source": [
    "data = [[\"Paper Description\", \"Undirected\", 9877, 25998],\n",
    "        [\"NetworkX\",\"Undirected\",  G.number_of_nodes(), G.number_of_edges()]]\n",
    "print(tt.to_string(data, header=[ \"Provider\", \"Type\", \"Nodes\", \"Edges\"]))"
   ]
  },
  {
   "cell_type": "code",
   "execution_count": 5,
   "metadata": {},
   "outputs": [
    {
     "name": "stdout",
     "output_type": "stream",
     "text": [
      "Example of the data and Dataset descriptions \n",
      "\n",
      "   FromNodeID  ToNodeID\n",
      "0       24325     24394\n",
      "1       24325     40517\n",
      "2       24325     58507\n",
      "3       24394      3737\n",
      "4       24394      3905 \n",
      "\n",
      "          FromNodeID      ToNodeID\n",
      "count  51971.000000  51971.000000\n",
      "mean   34294.387389  34294.387389\n",
      "std    19865.210725  19865.210725\n",
      "min        1.000000      1.000000\n",
      "25%    16854.000000  16854.000000\n",
      "50%    34402.000000  34402.000000\n",
      "75%    51315.000000  51315.000000\n",
      "max    68745.000000  68745.000000\n"
     ]
    }
   ],
   "source": [
    "print(\"Example of the data and Dataset descriptions \\n\")\n",
    "print( df[0:5],'\\n\\n', df.describe())"
   ]
  },
  {
   "cell_type": "markdown",
   "metadata": {},
   "source": [
    "#### 2.3 Extracting Metrics\n",
    "#### - Degree"
   ]
  },
  {
   "cell_type": "code",
   "execution_count": 7,
   "metadata": {},
   "outputs": [
    {
     "data": {
      "text/html": [
       "<div>\n",
       "<style scoped>\n",
       "    .dataframe tbody tr th:only-of-type {\n",
       "        vertical-align: middle;\n",
       "    }\n",
       "\n",
       "    .dataframe tbody tr th {\n",
       "        vertical-align: top;\n",
       "    }\n",
       "\n",
       "    .dataframe thead th {\n",
       "        text-align: right;\n",
       "    }\n",
       "</style>\n",
       "<table border=\"1\" class=\"dataframe\">\n",
       "  <thead>\n",
       "    <tr style=\"text-align: right;\">\n",
       "      <th></th>\n",
       "      <th>Node</th>\n",
       "      <th>Degree</th>\n",
       "    </tr>\n",
       "  </thead>\n",
       "  <tbody>\n",
       "    <tr>\n",
       "      <td>0</td>\n",
       "      <td>24325</td>\n",
       "      <td>3</td>\n",
       "    </tr>\n",
       "    <tr>\n",
       "      <td>1</td>\n",
       "      <td>24394</td>\n",
       "      <td>42</td>\n",
       "    </tr>\n",
       "    <tr>\n",
       "      <td>2</td>\n",
       "      <td>40517</td>\n",
       "      <td>49</td>\n",
       "    </tr>\n",
       "    <tr>\n",
       "      <td>3</td>\n",
       "      <td>58507</td>\n",
       "      <td>6</td>\n",
       "    </tr>\n",
       "    <tr>\n",
       "      <td>4</td>\n",
       "      <td>3737</td>\n",
       "      <td>22</td>\n",
       "    </tr>\n",
       "  </tbody>\n",
       "</table>\n",
       "</div>"
      ],
      "text/plain": [
       "    Node  Degree\n",
       "0  24325       3\n",
       "1  24394      42\n",
       "2  40517      49\n",
       "3  58507       6\n",
       "4   3737      22"
      ]
     },
     "execution_count": 7,
     "metadata": {},
     "output_type": "execute_result"
    }
   ],
   "source": [
    "df_stats = pd.DataFrame(nx.degree(G))\n",
    "df_stats.columns = ['Node', 'Degree']\n",
    "df_stats[0:5]"
   ]
  },
  {
   "cell_type": "code",
   "execution_count": 8,
   "metadata": {},
   "outputs": [
    {
     "name": "stdout",
     "output_type": "stream",
     "text": [
      "┌────────┬─────┬─────┬───────────────────┬────────┬────────────────────┐\n",
      "│ Metric │ Max │ Min │ Average           │ Median │ Standard Deviation │\n",
      "╞════════╪═════╪═════╪═══════════════════╪════════╪════════════════════╡\n",
      "│ Degree │ 65  │ 1   │ 5.264351523742027 │ 3.0    │ 6.191594484556439  │\n",
      "└────────┴─────┴─────┴───────────────────┴────────┴────────────────────┘\n"
     ]
    }
   ],
   "source": [
    "data = [[\"Degree\", df_stats['Degree'].max(), \n",
    "         df_stats['Degree'].min(), \n",
    "        df_stats['Degree'].mean(),\n",
    "        df_stats['Degree'].median(),\n",
    "         df_stats['Degree'].std()]]\n",
    "print(tt.to_string(data, header=[ \"Metric\" , \"Max\", \"Min\", \"Average\", \"Median\", \"Standard Deviation\"]))"
   ]
  },
  {
   "cell_type": "code",
   "execution_count": 91,
   "metadata": {},
   "outputs": [
    {
     "data": {
      "image/png": "[encoded data removed]",
      "text/plain": [
       "<Figure size 576x576 with 1 Axes>"
      ]
     },
     "metadata": {
      "needs_background": "light"
     },
     "output_type": "display_data"
    }
   ],
   "source": [
    "## Defining a function for plotting the CCDF that will be largely used in this work\n",
    "def empiricalCCDF(typo, dataset, data) : \n",
    "    x,y = powerlaw.ccdf(data)\n",
    "    fig, ax = plt.subplots(nrows=1, ncols=1, figsize=(8,8))\n",
    "    ax.set_title(\"Empirical {} CCDF\".format(typo))\n",
    "    ax.plot(x, y)\n",
    "    ax.set_xscale(\"log\"), ax.set_yscale(\"log\")\n",
    "    ax.set_xlabel(\"x\"), ax.set_ylabel(\"Fraction of Samples >= x\")\n",
    "    ax.grid(True)\n",
    "    plt.savefig(\"./images/{}_empirical_ccdf_{}.png\".format(dataset,typo), bbox_inches=\"tight\")\n",
    "    \n",
    "empiricalCCDF(\"Degree\", \"ColabData\", df_stats['Degree'])"
   ]
  },
  {
   "cell_type": "markdown",
   "metadata": {},
   "source": [
    "#### - Distance"
   ]
  },
  {
   "cell_type": "markdown",
   "metadata": {},
   "source": [
    "##### For the porpouse of reducing computational complexity <br> we can use [Chebyshev's inequality](https://en.wikipedia.org/wiki/Chebyshev%27s_inequality), defined as :\n",
    "$$\n",
    "\\begin{equation*}\n",
    "\\mathsf{P}[|\\overline{X} - \\mu| < \\delta] > 1 - \\varepsilon \\qquad (1)\n",
    "\\end{equation*}\n",
    "$$\n",
    "\n",
    "##### And therefore assuming normal distribution (only really strongly non-normal distributions will have any impact). <br> We want to be 99% confident that the sample mean is within 1% of the population mean'. <br> i.e. Find n such that :\n",
    "$$\n",
    "\\begin{equation*}\n",
    "\\mathsf{P}[|\\overline{X} - \\mu| < 0.01\\mu] = 0.99 \\qquad (2)\n",
    "\\end{equation*}\n",
    "$$\n",
    "\n",
    "##### Also 99% of a normal distribution is within 2.576 s.d.'s of the population mean (from the normal table) thus:\n",
    "$$\n",
    "\\begin{equation*}\n",
    "2.576 \\times \\frac{\\mu}{\\sqrt{n}}  =  0.99 \\qquad (3)\n",
    "\\end{equation*}\n",
    "$$\n",
    "\n",
    "## Refazer as contas ..."
   ]
  },
  {
   "cell_type": "code",
   "execution_count": 78,
   "metadata": {},
   "outputs": [
    {
     "name": "stdout",
     "output_type": "stream",
     "text": [
      "CPU times: user 4 µs, sys: 0 ns, total: 4 µs\n",
      "Wall time: 8.11 µs\n"
     ]
    }
   ],
   "source": [
    "%time\n",
    "n_nodes = 2\n",
    "distances = list()\n",
    "for source_node in np.random.choice(df_stats['Node'].unique(), size=n_nodes):\n",
    "    dist.append(nx.shortest_path_length(G,source_node))\n",
    "    \n",
    "nodeListDist = []\n",
    "for n in range(n_nodes):\n",
    "    target_node = list(dist[n].keys())[0]\n",
    "    nodeListDist = np.append(nodeListDist, np.array(list(dist[0].values())[1:]))"
   ]
  },
  {
   "cell_type": "code",
   "execution_count": 84,
   "metadata": {},
   "outputs": [
    {
     "data": {
      "text/plain": [
       "7.0"
      ]
     },
     "execution_count": 84,
     "metadata": {},
     "output_type": "execute_result"
    }
   ],
   "source": [
    "np.median(nodeListDist)"
   ]
  },
  {
   "cell_type": "code",
   "execution_count": 87,
   "metadata": {},
   "outputs": [
    {
     "name": "stdout",
     "output_type": "stream",
     "text": [
      "┌──────────┬──────┬─────┬───────────────────┬────────┬────────────────────┬─────────┐\n",
      "│ Metric   │ Max  │ Min │ Average           │ Median │ Standard Deviation │ Sampled │\n",
      "╞══════════╪══════╪═════╪═══════════════════╪════════╪════════════════════╪═════════╡\n",
      "│ Degree   │ 65   │ 1   │ 5.264351523742027 │ 3.0    │ 6.191594484556439  │ No      │\n",
      "├──────────┼──────┼─────┼───────────────────┼────────┼────────────────────┼─────────┤\n",
      "│ Distance │ 13.0 │ 1.0 │ 6.969318050248929 │ 7.0    │ 1.1795441708572654 │ Yes     │\n",
      "└──────────┴──────┴─────┴───────────────────┴────────┴────────────────────┴─────────┘\n"
     ]
    }
   ],
   "source": [
    "data = [[\"Degree\", df_stats['Degree'].max(), \n",
    "         df_stats['Degree'].min(), \n",
    "        df_stats['Degree'].mean(),\n",
    "        df_stats['Degree'].median(),\n",
    "         df_stats['Degree'].std(),\n",
    "        \"No\"],\n",
    "       [\"Distance\", nodeListDist.max(), \n",
    "         nodeListDist.min(), \n",
    "        nodeListDist.mean(),\n",
    "        np.median(nodeListDist),\n",
    "         nodeListDist.std(),\n",
    "       \"Yes\"]]\n",
    "print(tt.to_string(data, header=[ \"Metric\" , \"Max\", \"Min\", \"Average\", \"Median\", \"Standard Deviation\", \"Sampled\"]))"
   ]
  },
  {
   "cell_type": "code",
   "execution_count": 92,
   "metadata": {},
   "outputs": [
    {
     "data": {
      "image/png": "[encoded data removed]",
      "text/plain": [
       "<Figure size 576x576 with 1 Axes>"
      ]
     },
     "metadata": {
      "needs_background": "light"
     },
     "output_type": "display_data"
    }
   ],
   "source": [
    "empiricalCCDF(\"Distance\", \"ColabData\", nodeListDist)"
   ]
  },
  {
   "cell_type": "markdown",
   "metadata": {},
   "source": [
    "### - Degree Centrality"
   ]
  },
  {
   "cell_type": "code",
   "execution_count": 104,
   "metadata": {},
   "outputs": [],
   "source": [
    "degree_centrality =  np.around(np.array(list(nx.degree_centrality(G).values())), decimals=6)"
   ]
  },
  {
   "cell_type": "code",
   "execution_count": 100,
   "metadata": {},
   "outputs": [
    {
     "data": {
      "text/plain": [
       "array([0.0003, 0.0043, 0.005 , ..., 0.0002, 0.0002, 0.0002])"
      ]
     },
     "execution_count": 100,
     "metadata": {},
     "output_type": "execute_result"
    }
   ],
   "source": [
    "degree_centrality"
   ]
  },
  {
   "cell_type": "code",
   "execution_count": 107,
   "metadata": {},
   "outputs": [
    {
     "name": "stdout",
     "output_type": "stream",
     "text": [
      "┌───────────────────┬──────────┬──────────┬─────────┬──────────┬────────────────────┬─────────┐\n",
      "│ Metric            │ Max      │ Min      │ Average │ Median   │ Standard Deviation │ Sampled │\n",
      "╞═══════════════════╪══════════╪══════════╪═════════╪══════════╪════════════════════╪═════════╡\n",
      "│ Degree            │ 65       │ 1        │ 5.26435 │ 3.0      │ 6.19159            │ No      │\n",
      "├───────────────────┼──────────┼──────────┼─────────┼──────────┼────────────────────┼─────────┤\n",
      "│ Distance          │ 13.0     │ 1.0      │ 6.96932 │ 7.0      │ 1.17954            │ Yes     │\n",
      "├───────────────────┼──────────┼──────────┼─────────┼──────────┼────────────────────┼─────────┤\n",
      "│ Degree Centrality │ 0.006582 │ 0.000101 │ 0.00053 │ 0.000304 │ 0.00063            │ No      │\n",
      "└───────────────────┴──────────┴──────────┴─────────┴──────────┴────────────────────┴─────────┘\n"
     ]
    }
   ],
   "source": [
    "data = [[\"Degree\", df_stats['Degree'].max(), \n",
    "         df_stats['Degree'].min(), \n",
    "        np.around(df_stats['Degree'].mean(), decimals=5),\n",
    "        df_stats['Degree'].median(),\n",
    "         np.around(df_stats['Degree'].std(), decimals=5),\n",
    "        \"No\"],\n",
    "       [\"Distance\", nodeListDist.max(), \n",
    "         nodeListDist.min(), \n",
    "        np.around(nodeListDist.mean(), decimals=5),\n",
    "        np.median(nodeListDist),\n",
    "         np.around(nodeListDist.std(), decimals=5),\n",
    "       \"Yes\"],\n",
    "      [\"Degree Centrality\", degree_centrality.max(), \n",
    "         degree_centrality.min(), \n",
    "        np.around(degree_centrality.mean(), decimals=5),\n",
    "        np.median(degree_centrality),\n",
    "         np.around(degree_centrality.std(), decimals=5),\n",
    "       \"No\"]]\n",
    "print(tt.to_string(data, header=[ \"Metric\" , \"Max\", \"Min\", \"Average\", \"Median\", \"Standard Deviation\", \"Sampled\"]))"
   ]
  },
  {
   "cell_type": "code",
   "execution_count": 108,
   "metadata": {},
   "outputs": [
    {
     "data": {
      "image/png": "[encoded data removed]",
      "text/plain": [
       "<Figure size 576x576 with 1 Axes>"
      ]
     },
     "metadata": {
      "needs_background": "light"
     },
     "output_type": "display_data"
    }
   ],
   "source": [
    "empiricalCCDF(\"Degree Centrality\", \"ColabData\", degree_centrality)"
   ]
  },
  {
   "cell_type": "markdown",
   "metadata": {},
   "source": [
    "### - Closeness Centrality"
   ]
  },
  {
   "cell_type": "code",
   "execution_count": 119,
   "metadata": {},
   "outputs": [
    {
     "name": "stdout",
     "output_type": "stream",
     "text": [
      "CPU times: user 4 µs, sys: 0 ns, total: 4 µs\n",
      "Wall time: 7.63 µs\n"
     ]
    }
   ],
   "source": [
    "%time\n",
    "n_nodes = 500\n",
    "close_cent = list()\n",
    "for source_node in np.random.choice(df_stats['Node'].unique(), size=n_nodes):\n",
    "    close_cent.append(nx.closeness_centrality(G,source_node))\n",
    "close_cent = np.around(np.array(close_cent), decimals=5)"
   ]
  },
  {
   "cell_type": "code",
   "execution_count": 120,
   "metadata": {},
   "outputs": [
    {
     "name": "stdout",
     "output_type": "stream",
     "text": [
      "┌──────────────────────┬──────────┬──────────┬─────────┬──────────┬────────────────────┬─────────┐\n",
      "│ Metric               │ Max      │ Min      │ Average │ Median   │ Standard Deviation │ Sampled │\n",
      "╞══════════════════════╪══════════╪══════════╪═════════╪══════════╪════════════════════╪═════════╡\n",
      "│ Degree               │ 65       │ 1        │ 5.26435 │ 3.0      │ 6.19159            │ No      │\n",
      "├──────────────────────┼──────────┼──────────┼─────────┼──────────┼────────────────────┼─────────┤\n",
      "│ Distance             │ 13.0     │ 1.0      │ 6.96932 │ 7.0      │ 1.17954            │ Yes     │\n",
      "├──────────────────────┼──────────┼──────────┼─────────┼──────────┼────────────────────┼─────────┤\n",
      "│ Degree Centrality    │ 0.006582 │ 0.000101 │ 0.00053 │ 0.000304 │ 0.00063            │ No      │\n",
      "├──────────────────────┼──────────┼──────────┼─────────┼──────────┼────────────────────┼─────────┤\n",
      "│ Closeness Centrality │ 0.21616  │ 0.0001   │ 0.12925 │ 0.14826  │ 0.05844            │ Yes     │\n",
      "└──────────────────────┴──────────┴──────────┴─────────┴──────────┴────────────────────┴─────────┘\n"
     ]
    }
   ],
   "source": [
    "data = [[\"Degree\", df_stats['Degree'].max(), \n",
    "         df_stats['Degree'].min(), \n",
    "        np.around(df_stats['Degree'].mean(), decimals=5),\n",
    "        df_stats['Degree'].median(),\n",
    "         np.around(df_stats['Degree'].std(), decimals=5),\n",
    "        \"No\"],\n",
    "       [\"Distance\", nodeListDist.max(), \n",
    "         nodeListDist.min(), \n",
    "        np.around(nodeListDist.mean(), decimals=5),\n",
    "        np.median(nodeListDist),\n",
    "         np.around(nodeListDist.std(), decimals=5),\n",
    "       \"Yes\"],\n",
    "      [\"Degree Centrality\", degree_centrality.max(), \n",
    "         degree_centrality.min(), \n",
    "        np.around(degree_centrality.mean(), decimals=5),\n",
    "        np.median(degree_centrality),\n",
    "         np.around(degree_centrality.std(), decimals=5),\n",
    "       \"No\"],\n",
    "       [\"Closeness Centrality\", close_cent.max(), \n",
    "         close_cent.min(), \n",
    "        np.around(close_cent.mean(), decimals=5),\n",
    "        np.median(close_cent),\n",
    "         np.around(close_cent.std(), decimals=5),\n",
    "       \"Yes\"]]\n",
    "print(tt.to_string(data, header=[ \"Metric\" , \"Max\", \"Min\", \"Average\", \"Median\", \"Standard Deviation\", \"Sampled\"]))"
   ]
  },
  {
   "cell_type": "code",
   "execution_count": 121,
   "metadata": {},
   "outputs": [
    {
     "data": {
      "text/plain": [
       "0.2839996525875546"
      ]
     },
     "execution_count": 121,
     "metadata": {},
     "output_type": "execute_result"
    }
   ],
   "source": [
    "nx.transitivity(G)"
   ]
  },
  {
   "cell_type": "code",
   "execution_count": 122,
   "metadata": {},
   "outputs": [
    {
     "name": "stdout",
     "output_type": "stream",
     "text": [
      "CPU times: user 4 µs, sys: 0 ns, total: 4 µs\n",
      "Wall time: 8.11 µs\n"
     ]
    }
   ],
   "source": [
    "%time\n",
    "n_nodes = 500\n",
    "triangles = list()\n",
    "for source_node in np.random.choice(df_stats['Node'].unique(), size=n_nodes):\n",
    "    triangles.append(nx.closeness_centrality(G,source_node))\n",
    "triangles = np.around(np.array(triangles), decimals=5)"
   ]
  },
  {
   "cell_type": "code",
   "execution_count": 123,
   "metadata": {
    "collapsed": true,
    "jupyter": {
     "outputs_hidden": true
    }
   },
   "outputs": [
    {
     "data": {
      "text/plain": [
       "array([1.3398e-01, 1.4686e-01, 1.2624e-01, 1.5796e-01, 1.0000e-04,\n",
       "       4.5000e-04, 1.5376e-01, 1.6361e-01, 1.7330e-01, 1.4485e-01,\n",
       "       1.5678e-01, 1.7674e-01, 1.6915e-01, 1.8128e-01, 1.3802e-01,\n",
       "       1.7698e-01, 1.7868e-01, 1.6073e-01, 1.4808e-01, 1.7383e-01,\n",
       "       1.7160e-01, 1.4810e-01, 1.5137e-01, 1.4394e-01, 1.3066e-01,\n",
       "       1.9045e-01, 1.5943e-01, 1.0782e-01, 1.3299e-01, 4.1000e-04,\n",
       "       1.2982e-01, 1.2443e-01, 1.1930e-01, 1.5947e-01, 1.6568e-01,\n",
       "       1.1619e-01, 1.5341e-01, 1.6737e-01, 1.4085e-01, 1.7221e-01,\n",
       "       1.3636e-01, 1.6967e-01, 1.2738e-01, 1.4677e-01, 1.7251e-01,\n",
       "       1.2408e-01, 1.3049e-01, 6.2000e-04, 1.3191e-01, 1.8698e-01,\n",
       "       1.7359e-01, 1.6052e-01, 1.6189e-01, 1.5792e-01, 1.0000e-04,\n",
       "       1.5908e-01, 1.1356e-01, 1.3802e-01, 1.4000e-04, 1.2614e-01,\n",
       "       1.4316e-01, 1.5338e-01, 1.9437e-01, 1.7597e-01, 1.8821e-01,\n",
       "       1.3969e-01, 1.1566e-01, 1.5858e-01, 1.4099e-01, 1.5575e-01,\n",
       "       1.5690e-01, 2.3000e-04, 3.0000e-04, 1.3310e-01, 1.2710e-01,\n",
       "       1.9272e-01, 1.5942e-01, 1.4094e-01, 1.3244e-01, 1.6356e-01,\n",
       "       1.1837e-01, 1.5211e-01, 1.9255e-01, 2.3000e-04, 1.0000e-04,\n",
       "       1.2385e-01, 1.8831e-01, 1.2465e-01, 1.2589e-01, 1.0000e-04,\n",
       "       1.5930e-01, 1.5020e-01, 1.5301e-01, 1.1896e-01, 1.1199e-01,\n",
       "       1.4302e-01, 1.2469e-01, 1.8084e-01, 1.6657e-01, 1.4972e-01,\n",
       "       1.4533e-01, 1.5490e-01, 1.7058e-01, 1.3562e-01, 1.4511e-01,\n",
       "       1.5641e-01, 1.8621e-01, 1.4131e-01, 5.2000e-04, 1.0606e-01,\n",
       "       2.0000e-04, 1.4240e-01, 1.4636e-01, 1.1800e-01, 1.5090e-01,\n",
       "       1.0000e-04, 1.3491e-01, 1.6208e-01, 1.4523e-01, 3.0000e-04,\n",
       "       1.4225e-01, 1.3333e-01, 1.1590e-01, 3.0000e-04, 1.0000e-04,\n",
       "       1.2539e-01, 1.4219e-01, 1.5026e-01, 1.2280e-01, 1.0000e-04,\n",
       "       1.3766e-01, 1.4588e-01, 1.0000e-04, 1.2862e-01, 1.7687e-01,\n",
       "       1.5987e-01, 1.6477e-01, 1.4738e-01, 1.8868e-01, 1.4460e-01,\n",
       "       1.5111e-01, 1.2826e-01, 1.6777e-01, 1.0044e-01, 1.3908e-01,\n",
       "       1.6319e-01, 1.3802e-01, 1.4622e-01, 5.2000e-04, 1.1552e-01,\n",
       "       3.0000e-04, 1.4641e-01, 1.5768e-01, 1.6046e-01, 1.3326e-01,\n",
       "       1.2607e-01, 1.5973e-01, 1.2890e-01, 1.7052e-01, 1.3488e-01,\n",
       "       1.3042e-01, 1.5672e-01, 3.0000e-04, 1.1743e-01, 1.1567e-01,\n",
       "       1.5120e-01, 1.7591e-01, 1.5678e-01, 1.2911e-01, 1.6346e-01,\n",
       "       1.3571e-01, 1.2087e-01, 1.3719e-01, 1.7478e-01, 1.8846e-01,\n",
       "       1.0961e-01, 1.5793e-01, 1.0000e-04, 1.6120e-01, 1.0000e-04,\n",
       "       1.5767e-01, 1.6086e-01, 1.6318e-01, 1.5469e-01, 8.1000e-04,\n",
       "       1.8584e-01, 1.8409e-01, 1.6202e-01, 1.5849e-01, 1.2949e-01,\n",
       "       8.8030e-02, 1.7657e-01, 1.7110e-01, 1.5162e-01, 1.6645e-01,\n",
       "       1.5332e-01, 1.3237e-01, 1.7327e-01, 1.5129e-01, 1.3168e-01,\n",
       "       1.3060e-01, 1.9345e-01, 1.4567e-01, 1.4047e-01, 1.3083e-01,\n",
       "       1.1921e-01, 1.6865e-01, 1.0252e-01, 1.3478e-01, 1.6191e-01,\n",
       "       1.1021e-01, 9.7880e-02, 1.5414e-01, 1.4372e-01, 1.1819e-01,\n",
       "       1.5473e-01, 1.4861e-01, 1.5899e-01, 1.3667e-01, 1.5231e-01,\n",
       "       1.3562e-01, 1.6463e-01, 1.8397e-01, 1.6153e-01, 1.4433e-01,\n",
       "       1.8419e-01, 1.0000e-04, 1.6934e-01, 1.3861e-01, 1.5888e-01,\n",
       "       1.9444e-01, 1.5146e-01, 1.2818e-01, 1.7014e-01, 2.0258e-01,\n",
       "       1.2990e-01, 1.6424e-01, 1.4549e-01, 1.7335e-01, 1.3605e-01,\n",
       "       1.3733e-01, 1.3604e-01, 1.3361e-01, 1.2926e-01, 1.3221e-01,\n",
       "       1.3036e-01, 1.4425e-01, 1.7253e-01, 1.8800e-01, 1.6020e-01,\n",
       "       1.0000e-04, 1.5239e-01, 1.6783e-01, 1.8247e-01, 1.5520e-01,\n",
       "       1.7589e-01, 1.3676e-01, 1.4339e-01, 5.5000e-04, 1.7887e-01,\n",
       "       1.5360e-01, 1.3647e-01, 1.7505e-01, 1.2225e-01, 1.3636e-01,\n",
       "       1.3482e-01, 1.7665e-01, 1.7478e-01, 1.7683e-01, 1.5944e-01,\n",
       "       1.4636e-01, 1.4992e-01, 1.0000e-04, 1.0000e-04, 1.2218e-01,\n",
       "       1.6416e-01, 1.4992e-01, 2.0000e-04, 1.1819e-01, 1.6194e-01,\n",
       "       5.2000e-04, 1.1392e-01, 1.4777e-01, 1.5360e-01, 1.4221e-01,\n",
       "       1.3234e-01, 1.5187e-01, 1.5719e-01, 1.2122e-01, 1.0000e-04,\n",
       "       1.6158e-01, 2.0712e-01, 2.0103e-01, 1.7166e-01, 1.7540e-01,\n",
       "       4.1000e-04, 1.3752e-01, 1.5133e-01, 1.3432e-01, 1.7478e-01,\n",
       "       1.5020e-01, 1.1208e-01, 1.0000e-04, 1.2102e-01, 1.7919e-01,\n",
       "       1.5718e-01, 1.0000e-04, 1.5642e-01, 1.2541e-01, 1.5428e-01,\n",
       "       1.4550e-01, 1.1823e-01, 1.5567e-01, 1.5324e-01, 1.5685e-01,\n",
       "       1.5300e-01, 1.4804e-01, 1.6174e-01, 3.2000e-04, 1.2567e-01,\n",
       "       1.7677e-01, 1.3171e-01, 2.8000e-04, 1.5413e-01, 1.2951e-01,\n",
       "       1.3214e-01, 1.4941e-01, 6.0000e-04, 1.4862e-01, 1.8721e-01,\n",
       "       1.6579e-01, 1.4153e-01, 1.5842e-01, 1.5083e-01, 1.6275e-01,\n",
       "       1.5678e-01, 1.6756e-01, 1.5478e-01, 1.6115e-01, 1.5395e-01,\n",
       "       1.6416e-01, 2.7000e-04, 1.5584e-01, 1.3098e-01, 1.4642e-01,\n",
       "       1.6583e-01, 1.8032e-01, 5.0000e-04, 1.3570e-01, 1.4719e-01,\n",
       "       1.3633e-01, 1.3733e-01, 1.6512e-01, 1.0000e-04, 1.6721e-01,\n",
       "       1.6773e-01, 1.9070e-01, 1.0000e-04, 1.7241e-01, 1.0000e-04,\n",
       "       1.5089e-01, 1.5030e-01, 2.8000e-04, 1.4277e-01, 1.0000e-04,\n",
       "       1.7743e-01, 1.0000e-04, 1.6903e-01, 1.4749e-01, 1.3963e-01,\n",
       "       1.3427e-01, 1.3196e-01, 1.8149e-01, 2.3000e-04, 1.6324e-01,\n",
       "       1.8583e-01, 1.3528e-01, 1.8634e-01, 1.9103e-01, 1.1166e-01,\n",
       "       1.1916e-01, 1.5486e-01, 1.3257e-01, 1.5301e-01, 1.4550e-01,\n",
       "       1.2878e-01, 1.0000e-04, 1.4688e-01, 1.2936e-01, 1.7785e-01,\n",
       "       1.2814e-01, 1.3106e-01, 4.1000e-04, 1.3007e-01, 1.0000e-04,\n",
       "       1.2280e-01, 1.4997e-01, 1.8361e-01, 1.4606e-01, 1.5039e-01,\n",
       "       1.6861e-01, 1.5584e-01, 1.6039e-01, 1.0000e-04, 1.8280e-01,\n",
       "       1.5710e-01, 1.4778e-01, 1.1986e-01, 7.7410e-02, 1.7727e-01,\n",
       "       1.7045e-01, 1.8584e-01, 1.3977e-01, 1.3428e-01, 1.5219e-01,\n",
       "       1.6346e-01, 1.1845e-01, 1.2789e-01, 1.3651e-01, 1.6438e-01,\n",
       "       1.3328e-01, 1.4947e-01, 1.0000e-04, 1.6499e-01, 1.1015e-01,\n",
       "       1.5806e-01, 3.3000e-04, 1.4478e-01, 1.5354e-01, 1.5721e-01,\n",
       "       1.6001e-01, 1.8248e-01, 9.3310e-02, 1.2911e-01, 1.4937e-01,\n",
       "       1.1840e-01, 1.4482e-01, 4.1000e-04, 1.6172e-01, 1.3197e-01,\n",
       "       1.6631e-01, 1.7339e-01, 1.9089e-01, 1.6700e-01, 1.2865e-01,\n",
       "       1.4822e-01, 5.1000e-04, 1.6160e-01, 3.0000e-04, 1.3541e-01,\n",
       "       1.2522e-01, 1.7489e-01, 1.7242e-01, 1.9068e-01, 1.7428e-01,\n",
       "       9.7880e-02, 1.0000e-04, 1.5994e-01, 1.0000e-04, 1.3135e-01,\n",
       "       1.5076e-01, 1.7208e-01, 1.0000e-04, 3.0000e-04, 1.9038e-01,\n",
       "       1.4901e-01, 1.5642e-01, 1.6159e-01, 1.6992e-01, 1.2516e-01,\n",
       "       1.6182e-01, 1.7341e-01, 1.0000e-04, 1.5434e-01, 1.7699e-01,\n",
       "       1.8330e-01, 1.0000e-04, 1.8259e-01, 1.7397e-01, 1.8344e-01,\n",
       "       2.0000e-04, 1.4379e-01, 1.3733e-01, 1.4656e-01, 1.0000e-04,\n",
       "       1.0811e-01, 1.5062e-01, 1.1363e-01, 1.8229e-01, 1.6864e-01,\n",
       "       1.5324e-01, 1.7145e-01, 1.6435e-01, 1.5944e-01, 1.6602e-01,\n",
       "       1.3034e-01, 5.4000e-04, 1.4720e-01, 1.4956e-01, 1.8020e-01])"
      ]
     },
     "execution_count": 123,
     "metadata": {},
     "output_type": "execute_result"
    }
   ],
   "source": [
    "triangles"
   ]
  },
  {
   "cell_type": "code",
   "execution_count": 125,
   "metadata": {},
   "outputs": [
    {
     "name": "stdout",
     "output_type": "stream",
     "text": [
      "CPU times: user 4 µs, sys: 0 ns, total: 4 µs\n",
      "Wall time: 7.87 µs\n"
     ]
    }
   ],
   "source": [
    "\n",
    "%time\n",
    "n_nodes = 500\n",
    "clustering = list()\n",
    "for source_node in np.random.choice(df_stats['Node'].unique(), size=n_nodes):\n",
    "    clustering.append(nx.clustering(G,source_node))\n",
    "clustering = np.around(np.array(clustering), decimals=5)"
   ]
  },
  {
   "cell_type": "code",
   "execution_count": 126,
   "metadata": {},
   "outputs": [
    {
     "data": {
      "text/plain": [
       "array([0.40909, 0.     , 0.     , 0.     , 1.     , 0.     , 0.     ,\n",
       "       0.53333, 0.     , 1.     , 0.15   , 1.     , 0.25   , 0.30556,\n",
       "       0.     , 0.0989 , 0.5    , 1.     , 0.     , 0.42857, 0.16176,\n",
       "       1.     , 0.7    , 0.22857, 0.15441, 0.     , 0.     , 1.     ,\n",
       "       0.33333, 0.     , 0.3    , 1.     , 0.     , 0.30556, 1.     ,\n",
       "       0.28571, 0.     , 1.     , 0.83333, 0.     , 0.     , 0.     ,\n",
       "       0.     , 0.     , 1.     , 1.     , 1.     , 0.25   , 0.34545,\n",
       "       0.31818, 0.71429, 1.     , 0.     , 1.     , 0.2    , 0.5    ,\n",
       "       0.3    , 0.     , 0.66667, 1.     , 1.     , 0.17778, 0.13889,\n",
       "       0.     , 0.33333, 0.     , 0.     , 0.     , 0.     , 0.     ,\n",
       "       0.42857, 0.63889, 1.     , 0.12698, 0.     , 1.     , 0.04762,\n",
       "       1.     , 1.     , 0.33333, 0.67857, 0.     , 1.     , 1.     ,\n",
       "       0.     , 0.     , 0.     , 1.     , 0.33333, 0.21429, 1.     ,\n",
       "       0.66667, 0.     , 0.     , 0.     , 0.2    , 0.     , 1.     ,\n",
       "       0.     , 0.66667, 0.21818, 0.57143, 0.     , 1.     , 0.52381,\n",
       "       0.     , 1.     , 0.19048, 0.     , 0.     , 1.     , 0.14286,\n",
       "       0.     , 0.66667, 1.     , 0.28571, 0.19048, 1.     , 0.21053,\n",
       "       0.     , 0.     , 0.05556, 0.16364, 0.38095, 0.34545, 0.33333,\n",
       "       0.15608, 1.     , 0.6    , 0.     , 1.     , 1.     , 0.33333,\n",
       "       1.     , 1.     , 0.     , 1.     , 0.27778, 0.6    , 0.28571,\n",
       "       0.33333, 0.     , 0.5    , 1.     , 0.     , 1.     , 0.     ,\n",
       "       1.     , 0.7    , 0.66667, 0.     , 1.     , 1.     , 0.     ,\n",
       "       0.9    , 0.     , 0.     , 0.     , 1.     , 0.     , 0.     ,\n",
       "       1.     , 0.12088, 0.     , 1.     , 0.     , 0.     , 1.     ,\n",
       "       1.     , 0.16667, 1.     , 1.     , 1.     , 0.4    , 0.41667,\n",
       "       0.2    , 0.5    , 1.     , 0.66667, 0.     , 0.     , 0.     ,\n",
       "       0.4    , 0.     , 0.33333, 0.1    , 0.09333, 1.     , 1.     ,\n",
       "       0.4    , 0.66667, 0.33333, 1.     , 1.     , 0.16667, 0.     ,\n",
       "       0.33333, 0.     , 1.     , 0.     , 0.1    , 0.2381 , 0.33333,\n",
       "       1.     , 1.     , 0.     , 0.66667, 0.     , 1.     , 0.8    ,\n",
       "       0.53333, 0.     , 0.     , 1.     , 0.     , 1.     , 0.     ,\n",
       "       1.     , 1.     , 1.     , 0.5    , 0.33333, 0.26667, 1.     ,\n",
       "       0.     , 0.53383, 1.     , 0.     , 0.11333, 0.33333, 1.     ,\n",
       "       0.83333, 1.     , 0.15833, 0.28889, 0.66667, 1.     , 0.5    ,\n",
       "       0.06667, 0.25   , 1.     , 0.4    , 0.34545, 1.     , 0.     ,\n",
       "       0.23077, 1.     , 0.     , 0.     , 0.     , 0.4    , 0.125  ,\n",
       "       0.26923, 1.     , 1.     , 0.66667, 1.     , 1.     , 0.17316,\n",
       "       0.2    , 0.     , 0.7619 , 0.6    , 1.     , 1.     , 0.12043,\n",
       "       0.     , 0.     , 0.5    , 0.     , 0.52381, 0.2381 , 0.18954,\n",
       "       1.     , 0.     , 1.     , 0.32164, 0.     , 0.     , 1.     ,\n",
       "       0.5    , 0.     , 0.4    , 0.66667, 0.46667, 1.     , 0.31429,\n",
       "       0.     , 1.     , 0.     , 0.38095, 0.     , 0.66667, 0.33333,\n",
       "       0.     , 1.     , 1.     , 0.     , 0.1    , 1.     , 0.     ,\n",
       "       0.16667, 0.12418, 0.13333, 0.8    , 0.1342 , 1.     , 0.     ,\n",
       "       1.     , 0.2    , 1.     , 0.15385, 1.     , 0.33333, 0.33333,\n",
       "       0.     , 1.     , 0.12821, 0.5    , 0.     , 0.14167, 0.26667,\n",
       "       1.     , 0.     , 0.     , 0.     , 0.     , 0.06536, 1.     ,\n",
       "       1.     , 1.     , 0.66667, 0.21429, 0.12821, 0.     , 0.17857,\n",
       "       0.28571, 0.21978, 1.     , 0.33333, 1.     , 0.     , 0.52381,\n",
       "       0.     , 0.     , 0.66667, 1.     , 0.5    , 0.12121, 1.     ,\n",
       "       0.33333, 1.     , 0.33333, 0.19444, 0.     , 0.33333, 0.5    ,\n",
       "       1.     , 0.5    , 0.66667, 0.3268 , 0.     , 1.     , 0.5    ,\n",
       "       1.     , 0.4    , 1.     , 0.     , 0.35714, 1.     , 0.8    ,\n",
       "       0.14286, 0.5    , 1.     , 0.     , 1.     , 1.     , 0.33333,\n",
       "       0.66667, 0.33333, 0.5    , 0.33333, 0.     , 0.8    , 0.     ,\n",
       "       0.5    , 1.     , 0.5    , 1.     , 0.7    , 0.     , 1.     ,\n",
       "       0.04762, 0.7    , 1.     , 0.     , 0.5    , 0.     , 1.     ,\n",
       "       0.     , 1.     , 0.     , 0.     , 0.     , 0.8    , 0.     ,\n",
       "       1.     , 1.     , 0.17333, 0.     , 0.20513, 0.33333, 0.     ,\n",
       "       0.     , 0.05534, 0.     , 0.66667, 0.     , 1.     , 1.     ,\n",
       "       0.66667, 0.33333, 0.     , 0.     , 0.     , 0.19444, 0.     ,\n",
       "       0.1    , 1.     , 0.     , 0.     , 1.     , 0.11429, 1.     ,\n",
       "       0.66667, 0.33333, 1.     , 0.4    , 0.     , 0.     , 0.     ,\n",
       "       0.     , 1.     , 1.     , 0.     , 0.42424, 0.33333, 1.     ,\n",
       "       0.33333, 1.     , 0.22222, 1.     , 1.     , 1.     , 1.     ,\n",
       "       1.     , 1.     , 1.     , 0.60714, 1.     , 0.     , 0.5    ,\n",
       "       0.24444, 0.4    , 1.     , 0.     , 1.     , 0.     , 0.17949,\n",
       "       0.     , 0.33333, 1.     , 1.     , 1.     , 1.     , 1.     ,\n",
       "       0.66667, 0.2381 , 0.23333, 0.08021, 0.     , 0.14286, 1.     ,\n",
       "       0.11966, 0.     , 0.5    , 0.     , 0.     , 0.5    , 0.33333,\n",
       "       0.     , 0.29474, 0.     , 0.     , 0.     , 1.     , 0.12727,\n",
       "       0.     , 0.     , 0.     ])"
      ]
     },
     "execution_count": 126,
     "metadata": {},
     "output_type": "execute_result"
    }
   ],
   "source": [
    "clustering"
   ]
  },
  {
   "cell_type": "code",
   "execution_count": null,
   "metadata": {},
   "outputs": [],
   "source": []
  }
 ],
 "metadata": {
  "kernelspec": {
   "display_name": "redes",
   "language": "python",
   "name": "redes"
  },
  "language_info": {
   "codemirror_mode": {
    "name": "ipython",
    "version": 3
   },
   "file_extension": ".py",
   "mimetype": "text/x-python",
   "name": "python",
   "nbconvert_exporter": "python",
   "pygments_lexer": "ipython3",
   "version": "3.6.8"
  }
 },
 "nbformat": 4,
 "nbformat_minor": 4
}
